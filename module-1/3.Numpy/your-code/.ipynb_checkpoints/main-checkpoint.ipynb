{
 "cells": [
  {
   "cell_type": "markdown",
   "metadata": {},
   "source": [
    "# Introduction to NumPy\n",
    "\n",
    "\n",
    "#### 1. Import NumPy under the name np."
   ]
  },
  {
   "cell_type": "code",
   "execution_count": 1,
   "metadata": {},
   "outputs": [],
   "source": [
    "import numpy as np"
   ]
  },
  {
   "cell_type": "markdown",
   "metadata": {},
   "source": [
    "#### 2. Print your NumPy version."
   ]
  },
  {
   "cell_type": "code",
   "execution_count": 2,
   "metadata": {},
   "outputs": [
    {
     "name": "stdout",
     "output_type": "stream",
     "text": [
      "1.18.1\n"
     ]
    }
   ],
   "source": [
    "print(np.__version__)"
   ]
  },
  {
   "cell_type": "markdown",
   "metadata": {},
   "source": [
    "#### 3. Generate a 2x3x5 3-dimensional array with random values. Assign the array to variable *a*.\n",
    "**Challenge**: there are at least three easy ways that use numpy to generate random arrays. How many ways can you find?"
   ]
  },
  {
   "cell_type": "code",
   "execution_count": 3,
   "metadata": {},
   "outputs": [
    {
     "name": "stdout",
     "output_type": "stream",
     "text": [
      "[[[0.71899567 0.17280827 0.35903066 0.25007274 0.12650719]\n",
      "  [0.08616075 0.02476095 0.40341295 0.96151023 0.01569406]\n",
      "  [0.95130375 0.94882707 0.83297436 0.48892088 0.56589984]]\n",
      "\n",
      " [[0.09355719 0.66982739 0.18125627 0.52588966 0.51010154]\n",
      "  [0.28041499 0.43352983 0.51434537 0.34861671 0.53707886]\n",
      "  [0.42295919 0.15444573 0.36001255 0.91881575 0.10997391]]]\n"
     ]
    }
   ],
   "source": [
    "# Method 1\n",
    "a=np.random.random((2,3,5))\n",
    "print(a)"
   ]
  },
  {
   "cell_type": "code",
   "execution_count": 4,
   "metadata": {},
   "outputs": [
    {
     "name": "stdout",
     "output_type": "stream",
     "text": [
      "[[[0.72645876 0.68672707 0.31302647 0.71252107 0.50195616]\n",
      "  [0.99932438 0.12280071 0.25301542 0.93215468 0.73576922]\n",
      "  [0.2786387  0.60032817 0.71877496 0.22957917 0.03879085]]\n",
      "\n",
      " [[0.9573232  0.4185983  0.37497057 0.27580059 0.17630722]\n",
      "  [0.1030427  0.90908084 0.30885123 0.59054821 0.48680918]\n",
      "  [0.23564026 0.57698795 0.87366603 0.22936267 0.40120486]]]\n"
     ]
    }
   ],
   "source": [
    "# Method 2\n",
    "\n",
    "a=np.random.rand(2,3,5)\n",
    "print(a)\n",
    "\n"
   ]
  },
  {
   "cell_type": "code",
   "execution_count": 5,
   "metadata": {},
   "outputs": [
    {
     "name": "stdout",
     "output_type": "stream",
     "text": [
      "[[[0.72645876 0.68672707 0.31302647 0.71252107 0.50195616]\n",
      "  [0.99932438 0.12280071 0.25301542 0.93215468 0.73576922]\n",
      "  [0.2786387  0.60032817 0.71877496 0.22957917 0.03879085]]\n",
      "\n",
      " [[0.9573232  0.4185983  0.37497057 0.27580059 0.17630722]\n",
      "  [0.1030427  0.90908084 0.30885123 0.59054821 0.48680918]\n",
      "  [0.23564026 0.57698795 0.87366603 0.22936267 0.40120486]]]\n"
     ]
    }
   ],
   "source": [
    "# Method 3\n",
    "\n",
    "a=np.empty((2,3,5))\n",
    "print(a)"
   ]
  },
  {
   "cell_type": "markdown",
   "metadata": {},
   "source": [
    "#### 4. Print *a*.\n"
   ]
  },
  {
   "cell_type": "code",
   "execution_count": 6,
   "metadata": {},
   "outputs": [
    {
     "name": "stdout",
     "output_type": "stream",
     "text": [
      "[[[0.72645876 0.68672707 0.31302647 0.71252107 0.50195616]\n",
      "  [0.99932438 0.12280071 0.25301542 0.93215468 0.73576922]\n",
      "  [0.2786387  0.60032817 0.71877496 0.22957917 0.03879085]]\n",
      "\n",
      " [[0.9573232  0.4185983  0.37497057 0.27580059 0.17630722]\n",
      "  [0.1030427  0.90908084 0.30885123 0.59054821 0.48680918]\n",
      "  [0.23564026 0.57698795 0.87366603 0.22936267 0.40120486]]]\n"
     ]
    }
   ],
   "source": [
    "print(a)"
   ]
  },
  {
   "cell_type": "code",
   "execution_count": 7,
   "metadata": {},
   "outputs": [],
   "source": [
    "# 5. Create a 5x2x3 3-dimensional array with all values equaling 1. Assign the array to variable *b*."
   ]
  },
  {
   "cell_type": "code",
   "execution_count": 8,
   "metadata": {},
   "outputs": [],
   "source": [
    "b=np.ones((5,2,3),dtype = float)"
   ]
  },
  {
   "cell_type": "markdown",
   "metadata": {},
   "source": [
    "#### 6. Print *b*.\n"
   ]
  },
  {
   "cell_type": "code",
   "execution_count": 9,
   "metadata": {},
   "outputs": [
    {
     "name": "stdout",
     "output_type": "stream",
     "text": [
      "[[[1. 1. 1.]\n",
      "  [1. 1. 1.]]\n",
      "\n",
      " [[1. 1. 1.]\n",
      "  [1. 1. 1.]]\n",
      "\n",
      " [[1. 1. 1.]\n",
      "  [1. 1. 1.]]\n",
      "\n",
      " [[1. 1. 1.]\n",
      "  [1. 1. 1.]]\n",
      "\n",
      " [[1. 1. 1.]\n",
      "  [1. 1. 1.]]]\n"
     ]
    }
   ],
   "source": [
    "print(b)"
   ]
  },
  {
   "cell_type": "markdown",
   "metadata": {},
   "source": [
    "#### 7. Do *a* and *b* have the same size? How do you prove that in Python code?"
   ]
  },
  {
   "cell_type": "code",
   "execution_count": 10,
   "metadata": {},
   "outputs": [
    {
     "name": "stdout",
     "output_type": "stream",
     "text": [
      "True\n"
     ]
    }
   ],
   "source": [
    "print(a.size==b.size)\n"
   ]
  },
  {
   "cell_type": "markdown",
   "metadata": {},
   "source": [
    "#### 8. Are you able to add *a* and *b*? Why or why not?\n"
   ]
  },
  {
   "cell_type": "code",
   "execution_count": 11,
   "metadata": {},
   "outputs": [],
   "source": [
    "# print(np.add(a,b))\n",
    "\n",
    "# Can't add up a and b, because these 2 arrays have different shapes\n"
   ]
  },
  {
   "cell_type": "markdown",
   "metadata": {},
   "source": [
    "#### 9. Transpose *b* so that it has the same structure of *a* (i.e. become a 2x3x5 array). Assign the transposed array to variable *c*."
   ]
  },
  {
   "cell_type": "code",
   "execution_count": 12,
   "metadata": {},
   "outputs": [
    {
     "name": "stdout",
     "output_type": "stream",
     "text": [
      "[[[1. 1. 1. 1. 1.]\n",
      "  [1. 1. 1. 1. 1.]\n",
      "  [1. 1. 1. 1. 1.]]\n",
      "\n",
      " [[1. 1. 1. 1. 1.]\n",
      "  [1. 1. 1. 1. 1.]\n",
      "  [1. 1. 1. 1. 1.]]]\n"
     ]
    }
   ],
   "source": [
    "# your code here\n",
    "\n",
    "c=np.reshape(b,((2,3,5)))\n",
    "print(c)\n",
    "\n",
    "\n"
   ]
  },
  {
   "cell_type": "markdown",
   "metadata": {},
   "source": [
    "#### 10. Try to add *a* and *c*. Now it should work. Assign the sum to variable *d*. But why does it work now?"
   ]
  },
  {
   "cell_type": "code",
   "execution_count": 13,
   "metadata": {},
   "outputs": [
    {
     "name": "stdout",
     "output_type": "stream",
     "text": [
      "[[[1.72645876 1.68672707 1.31302647 1.71252107 1.50195616]\n",
      "  [1.99932438 1.12280071 1.25301542 1.93215468 1.73576922]\n",
      "  [1.2786387  1.60032817 1.71877496 1.22957917 1.03879085]]\n",
      "\n",
      " [[1.9573232  1.4185983  1.37497057 1.27580059 1.17630722]\n",
      "  [1.1030427  1.90908084 1.30885123 1.59054821 1.48680918]\n",
      "  [1.23564026 1.57698795 1.87366603 1.22936267 1.40120486]]]\n"
     ]
    }
   ],
   "source": [
    "# a's shape=(2,3,5)\n",
    "# b's shape=(5,2,3) --> reshape (2,3,5)=c\n",
    "# a and c have the same shape, thus they can add up to d\n",
    "\n",
    "\n",
    "d=np.add(a,c)\n",
    "print(d)\n"
   ]
  },
  {
   "cell_type": "markdown",
   "metadata": {},
   "source": [
    "#### 11. Print *a* and *d*. Notice the difference and relation of the two array in terms of the values? Explain."
   ]
  },
  {
   "cell_type": "code",
   "execution_count": 14,
   "metadata": {},
   "outputs": [
    {
     "name": "stdout",
     "output_type": "stream",
     "text": [
      "[[[0.72645876 0.68672707 0.31302647 0.71252107 0.50195616]\n",
      "  [0.99932438 0.12280071 0.25301542 0.93215468 0.73576922]\n",
      "  [0.2786387  0.60032817 0.71877496 0.22957917 0.03879085]]\n",
      "\n",
      " [[0.9573232  0.4185983  0.37497057 0.27580059 0.17630722]\n",
      "  [0.1030427  0.90908084 0.30885123 0.59054821 0.48680918]\n",
      "  [0.23564026 0.57698795 0.87366603 0.22936267 0.40120486]]]\n",
      "--------------------------------------------------------------------------------\n",
      "[[[1.72645876 1.68672707 1.31302647 1.71252107 1.50195616]\n",
      "  [1.99932438 1.12280071 1.25301542 1.93215468 1.73576922]\n",
      "  [1.2786387  1.60032817 1.71877496 1.22957917 1.03879085]]\n",
      "\n",
      " [[1.9573232  1.4185983  1.37497057 1.27580059 1.17630722]\n",
      "  [1.1030427  1.90908084 1.30885123 1.59054821 1.48680918]\n",
      "  [1.23564026 1.57698795 1.87366603 1.22936267 1.40120486]]]\n"
     ]
    }
   ],
   "source": [
    "print(a)\n",
    "print('--'*40)\n",
    "print(d)"
   ]
  },
  {
   "cell_type": "markdown",
   "metadata": {},
   "source": [
    "#### 12. Multiply *a* and *c*. Assign the result to *e*."
   ]
  },
  {
   "cell_type": "code",
   "execution_count": 15,
   "metadata": {},
   "outputs": [
    {
     "name": "stdout",
     "output_type": "stream",
     "text": [
      "[[[0.72645876 0.68672707 0.31302647 0.71252107 0.50195616]\n",
      "  [0.99932438 0.12280071 0.25301542 0.93215468 0.73576922]\n",
      "  [0.2786387  0.60032817 0.71877496 0.22957917 0.03879085]]\n",
      "\n",
      " [[0.9573232  0.4185983  0.37497057 0.27580059 0.17630722]\n",
      "  [0.1030427  0.90908084 0.30885123 0.59054821 0.48680918]\n",
      "  [0.23564026 0.57698795 0.87366603 0.22936267 0.40120486]]]\n"
     ]
    }
   ],
   "source": [
    "e=np.multiply(a,c)\n",
    "\n",
    "print(e)"
   ]
  },
  {
   "cell_type": "markdown",
   "metadata": {},
   "source": [
    "#### 13. Does *e* equal to *a*? Why or why not?\n"
   ]
  },
  {
   "cell_type": "code",
   "execution_count": 16,
   "metadata": {},
   "outputs": [
    {
     "name": "stdout",
     "output_type": "stream",
     "text": [
      "[[[ True  True  True  True  True]\n",
      "  [ True  True  True  True  True]\n",
      "  [ True  True  True  True  True]]\n",
      "\n",
      " [[ True  True  True  True  True]\n",
      "  [ True  True  True  True  True]\n",
      "  [ True  True  True  True  True]]]\n"
     ]
    }
   ],
   "source": [
    "print(e==a)\n",
    "#print(np.sum(e)==np.sum(a))"
   ]
  },
  {
   "cell_type": "markdown",
   "metadata": {},
   "source": [
    "#### 14. Identify the max, min, and mean values in *d*. Assign those values to variables *d_max*, *d_min* and *d_mean*."
   ]
  },
  {
   "cell_type": "code",
   "execution_count": 17,
   "metadata": {},
   "outputs": [
    {
     "name": "stdout",
     "output_type": "stream",
     "text": [
      "1.9993243815853579\n",
      "1.03879085127081\n",
      "1.4922686533628862\n"
     ]
    }
   ],
   "source": [
    "d_max=np.max(d)\n",
    "d_min=np.min(d)\n",
    "d_mean=np.mean(d)\n",
    "\n",
    "print(d_max)\n",
    "print(d_min)\n",
    "print(d_mean)"
   ]
  },
  {
   "cell_type": "markdown",
   "metadata": {},
   "source": [
    "#### 15. Now we want to label the values in *d*. First create an empty array *f* with the same shape (i.e. 2x3x5) as *d* using `np.empty`.\n"
   ]
  },
  {
   "cell_type": "code",
   "execution_count": 18,
   "metadata": {},
   "outputs": [
    {
     "name": "stdout",
     "output_type": "stream",
     "text": [
      "[[[0.72645876 0.68672707 0.31302647 0.71252107 0.50195616]\n",
      "  [0.99932438 0.12280071 0.25301542 0.93215468 0.73576922]\n",
      "  [0.2786387  0.60032817 0.71877496 0.22957917 0.03879085]]\n",
      "\n",
      " [[0.9573232  0.4185983  0.37497057 0.27580059 0.17630722]\n",
      "  [0.1030427  0.90908084 0.30885123 0.59054821 0.48680918]\n",
      "  [0.23564026 0.57698795 0.87366603 0.22936267 0.40120486]]]\n"
     ]
    }
   ],
   "source": [
    "\n",
    "f=np.empty((2,3,5),dtype=float,order='C')\n",
    "\n",
    "print(f)"
   ]
  },
  {
   "cell_type": "markdown",
   "metadata": {},
   "source": [
    "#### 16. Populate the values in *f*. \n",
    "\n",
    "For each value in *d*, if it's larger than *d_min* but smaller than *d_mean*, assign 25 to the corresponding value in *f*. If a value in *d* is larger than *d_mean* but smaller than *d_max*, assign 75 to the corresponding value in *f*. If a value equals to *d_mean*, assign 50 to the corresponding value in *f*. Assign 0 to the corresponding value(s) in *f* for *d_min* in *d*. Assign 100 to the corresponding value(s) in *f* for *d_max* in *d*. In the end, f should have only the following values: 0, 25, 50, 75, and 100.\n",
    "\n",
    "**Note**: you don't have to use Numpy in this question."
   ]
  },
  {
   "cell_type": "code",
   "execution_count": 23,
   "metadata": {},
   "outputs": [],
   "source": [
    "# For each value in d, if it's larger than d_min but smaller than d_mean, assign 25 to the corresponding value in f. \n",
    "\n",
    "d[(d > d_min)&(d< d_mean)]=25\n",
    "\n",
    "f=d.copy()\n",
    "\n",
    "\n",
    "\n",
    "# If a value in d is larger than d_mean but smaller than d_max, assign 75 to the corresponding value in f.\n",
    "\n",
    "d[(d < d_max)&(d> d_mean)]=75\n",
    "\n",
    "f=d.copy()\n",
    "\n",
    "\n",
    "# If a value equals to d_mean, assign 50 to the corresponding value in f. \n",
    "\n",
    "d[d==d_mean]=50\n",
    "\n",
    "f=d.copy()\n",
    "\n",
    " \n",
    "# Assign 0 to the corresponding value(s) in f for d_min in d. \n",
    "    \n",
    "d[d==d_min]=0\n",
    "\n",
    "f=d.copy()\n",
    "\n",
    "\n",
    "# Assign 100 to the corresponding value(s) in f for d_max in d\n",
    "d[d==d_max]=100\n",
    "\n",
    "f=d.copy()\n"
   ]
  },
  {
   "cell_type": "markdown",
   "metadata": {},
   "source": [
    "#### 17. Print *d* and *f*. Do you have your expected *f*?\n",
    "For instance, if your *d* is:\n",
    "```python\n",
    "[[[1.85836099, 1.67064465, 1.62576044, 1.40243961, 1.88454931],\n",
    "[1.75354326, 1.69403643, 1.36729252, 1.61415071, 1.12104981],\n",
    "[1.72201435, 1.1862918 , 1.87078449, 1.7726778 , 1.88180042]],\n",
    "[[1.44747908, 1.31673383, 1.02000951, 1.52218947, 1.97066381],\n",
    "[1.79129243, 1.74983003, 1.96028037, 1.85166831, 1.65450881],\n",
    "[1.18068344, 1.9587381 , 1.00656599, 1.93402165, 1.73514584]]]\n",
    "```\n",
    "Your *f* should be:\n",
    "```python\n",
    "[[[ 75.,  75.,  75.,  25.,  75.],\n",
    "[ 75.,  75.,  25.,  25.,  25.],\n",
    "[ 75.,  25.,  75.,  75.,  75.]],\n",
    "[[ 25.,  25.,  25.,  25., 100.],\n",
    "[ 75.,  75.,  75.,  75.,  75.],\n",
    "[ 25.,  75.,   0.,  75.,  75.]]]\n",
    "```"
   ]
  },
  {
   "cell_type": "code",
   "execution_count": 20,
   "metadata": {},
   "outputs": [],
   "source": [
    "# your code here"
   ]
  },
  {
   "cell_type": "markdown",
   "metadata": {},
   "source": [
    "#### 18. Bonus question: instead of using numbers (i.e. 0, 25, 50, 75, and 100), use string values  (\"A\", \"B\", \"C\", \"D\", and \"E\") to label the array elements. For the example above, the expected result is:\n",
    "\n",
    "```python\n",
    "[[[ 'D',  'D',  'D',  'B',  'D'],\n",
    "[ 'D',  'D',  'B',  'B',  'B'],\n",
    "[ 'D',  'B',  'D',  'D',  'D']],\n",
    "[[ 'B',  'B',  'B',  'B',  'E'],\n",
    "[ 'D',  'D',  'D',  'D',  'D'],\n",
    "[ 'B',  'D',   'A',  'D', 'D']]]\n",
    "```\n",
    "**Note**: you don't have to use Numpy in this question."
   ]
  },
  {
   "cell_type": "code",
   "execution_count": 21,
   "metadata": {},
   "outputs": [],
   "source": [
    "# your code here\n"
   ]
  },
  {
   "cell_type": "code",
   "execution_count": null,
   "metadata": {},
   "outputs": [],
   "source": []
  }
 ],
 "metadata": {
  "kernelspec": {
   "display_name": "Python 3",
   "language": "python",
   "name": "python3"
  },
  "language_info": {
   "codemirror_mode": {
    "name": "ipython",
    "version": 3
   },
   "file_extension": ".py",
   "mimetype": "text/x-python",
   "name": "python",
   "nbconvert_exporter": "python",
   "pygments_lexer": "ipython3",
   "version": "3.6.5"
  }
 },
 "nbformat": 4,
 "nbformat_minor": 2
}
