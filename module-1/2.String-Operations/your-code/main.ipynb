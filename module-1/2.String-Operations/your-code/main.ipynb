{
 "cells": [
  {
   "cell_type": "markdown",
   "metadata": {},
   "source": [
    "# Before your start:\n",
    "- Read the README.md file\n",
    "- Comment as much as you can and use the resources in the README.md file\n",
    "- Happy learning!"
   ]
  },
  {
   "cell_type": "code",
   "execution_count": 2,
   "metadata": {},
   "outputs": [],
   "source": [
    "import re"
   ]
  },
  {
   "cell_type": "markdown",
   "metadata": {},
   "source": [
    "# Challenge 1 - Combining Strings\n",
    "\n",
    "Combining strings is an important skill to acquire. There are multiple ways of combining strings in Python, as well as combining strings with variables. We will explore this in the first challenge. In the cell below, combine the strings in the list and add spaces between the strings (do not add a space after the last string). Insert a period after the last string."
   ]
  },
  {
   "cell_type": "code",
   "execution_count": 3,
   "metadata": {},
   "outputs": [
    {
     "name": "stdout",
     "output_type": "stream",
     "text": [
      "Durante un tiempo no estuvo segura de si su marido era su marido.\n"
     ]
    }
   ],
   "source": [
    "import re\n",
    "\n",
    "str_list = ['Durante', 'un', 'tiempo', 'no', 'estuvo', 'segura', 'de', 'si', 'su', 'marido', 'era', 'su', 'marido']\n",
    "\n",
    "print(' '.join(str_list)+'.')"
   ]
  },
  {
   "cell_type": "markdown",
   "metadata": {},
   "source": [
    "In the cell below, use the list of strings to create a grocery list. Start the list with the string `Grocery list: ` and include a comma and a space between each item except for the last one. Include a period at the end. Only include foods in the list that start with the letter 'b' and ensure all foods are lower case."
   ]
  },
  {
   "cell_type": "code",
   "execution_count": 4,
   "metadata": {},
   "outputs": [
    {
     "name": "stdout",
     "output_type": "stream",
     "text": [
      "Grocery list: bananas, bread, brownie mix, broccoli.\n"
     ]
    }
   ],
   "source": [
    "import re\n",
    "\n",
    "food_list = ['Bananas', 'Chocolate', 'bread', 'diapers', 'Ice Cream', 'Brownie Mix', 'broccoli']\n",
    "\n",
    "grocery_list = []\n",
    "for f in food_list:\n",
    "    if f.lower().startswith('b'):\n",
    "        grocery_list.append(f.lower())\n",
    "\n",
    "print(\"Grocery list: \" + ', '.join(grocery_list) + '.')\n"
   ]
  },
  {
   "cell_type": "markdown",
   "metadata": {},
   "source": [
    "In the cell below, write a function that computes the area of a circle using its radius. Compute the area of the circle and insert the radius and the area between the two strings. Make sure to include spaces between the variable and the strings. \n",
    "\n",
    "Note: You can use the techniques we have learned so far or use f-strings. F-strings allow us to embed code inside strings. You can read more about f-strings [here](https://www.python.org/dev/peps/pep-0498/)."
   ]
  },
  {
   "cell_type": "code",
   "execution_count": 77,
   "metadata": {},
   "outputs": [
    {
     "name": "stdout",
     "output_type": "stream",
     "text": [
      "The radius is:5\n",
      "the radium of 5.0 creates an area of 78.53981633974483\n"
     ]
    }
   ],
   "source": [
    "import math\n",
    "\n",
    "\n",
    "\n",
    "string_radium = float(input(\"The radius is:\"))\n",
    "\n",
    "\n",
    "def area(x, pi = math.pi):\n",
    "    x=string_radium\n",
    "    A=pi*x**2\n",
    "    return A\n",
    "    \n",
    "#area(x)  \n",
    "\n",
    "print('The radium of {} creates an area of {} in a circle'.format(string_radium,area(x)) )\n"
   ]
  },
  {
   "cell_type": "markdown",
   "metadata": {},
   "source": [
    "# Challenge 2 - Splitting Strings\n",
    "\n",
    "We have first looked at combining strings into one long string. There are times where we need to do the opposite and split the string into smaller components for further analysis. \n",
    "\n",
    "In the cell below, split the string into a list of strings using the space delimiter. Count the frequency of each word in the string in a dictionary. Strip the periods, line breaks and commas from the text. Make sure to remove empty strings from your dictionary."
   ]
  },
  {
   "cell_type": "code",
   "execution_count": 2,
   "metadata": {},
   "outputs": [
    {
     "name": "stdout",
     "output_type": "stream",
     "text": [
      "['Some', 'say', 'the', 'world', 'will', 'end', 'in', 'fire,', 'Some', 'say', 'in', 'ice.', 'From', 'what', 'I’ve', 'tasted', 'of', 'desire', 'I', 'hold', 'with', 'those', 'who', 'favor', 'fire.', 'But', 'if', 'it', 'had', 'to', 'perish', 'twice,', 'I', 'think', 'I', 'know', 'enough', 'of', 'hate', 'To', 'say', 'that', 'for', 'destruction', 'ice', 'Is', 'also', 'great', 'And', 'would', 'suffice.']\n",
      "{'some': 2, 'say': 3, 'the': 1, 'world': 1, 'will': 1, 'end': 1, 'in': 2, 'fire': 1, 'ice': 1, 'from': 1, 'what': 1, 'ive': 1, 'tasted': 1, 'of': 2, 'desire': 1, 'i': 3, 'hold': 1, 'with': 1, 'those': 1, 'who': 1, 'favor': 1, 'but': 1, 'if': 1, 'it': 1, 'had': 1, 'to': 1, 'perish': 1, 'twice': 1, 'think': 1, 'know': 1, 'enough': 1, 'hate': 1, 'that': 1, 'for': 1, 'destruction': 1, 'is': 1, 'also': 1, 'great': 1, 'and': 1, 'would': 1, 'suffice': 1}\n"
     ]
    }
   ],
   "source": [
    "import re\n",
    "\n",
    "poem = \"\"\"Some say the world will end in fire,\n",
    "Some say in ice.\n",
    "From what I’ve tasted of desire\n",
    "I hold with those who favor fire.\n",
    "But if it had to perish twice,\n",
    "I think I know enough of hate\n",
    "To say that for destruction ice\n",
    "Is also great\n",
    "And would suffice.\"\"\"\n",
    "\n",
    "\n",
    "dictionary = {}\n",
    "poem_w = poem.split()   # 这是个list，把list的每个词隔开， 有的词是和line breaks在一起的\n",
    "print(poem_w)\n",
    "for w in poem_w:\n",
    "    clean_word = re.sub('\\W','',w).lower()   # \\W=[^a-zA-Z0-9_] 所有不是alphabeic or numerical 形式的字符=就是那些特殊字符\n",
    "                                                # ‘’ 代替找出来的特殊字符\n",
    "                                                # w 是需要替代的string    详情参考https://docs.python.org/2/library/re.html\n",
    "                                                # 建立一个没有特殊符号的\n",
    "    dictionary[clean_word] = poem_w.count(w)    # 从poem_w 这个list里有多少个w的词  添加dic： dic[key]='value'\n",
    "    \n",
    "print(dictionary)\n"
   ]
  },
  {
   "cell_type": "code",
   "execution_count": 156,
   "metadata": {},
   "outputs": [
    {
     "name": "stdout",
     "output_type": "stream",
     "text": [
      "['Some', 'say', 'the', 'world', 'will', 'end', 'in', 'fire,', 'Some', 'say', 'in', 'ice.From', 'what', 'I’ve', 'tasted', 'of', 'desire', 'I', 'hold', 'with', 'those', 'who', 'favor', 'fire.', 'But', 'if', 'it', 'had', 'to', 'perish', 'twice,', 'I', 'think', 'I', 'know', 'enough', 'of', 'hate', 'To', 'say', 'that', 'for', 'destruction', 'ice', 'Is', 'also', 'great', 'And', 'would', 'suffice.']\n",
      "====================================================================================================\n",
      "['Some', 'say', 'the', 'world', 'will', 'end', 'in', 'fire', 'Some', 'say', 'in', 'iceFrom', 'what', 'I’ve', 'tasted', 'of', 'desire', 'I', 'hold', 'with', 'those', 'who', 'favor', 'fire', 'But', 'if', 'it', 'had', 'to', 'perish', 'twice', 'I', 'think', 'I', 'know', 'enough', 'of', 'hate', 'To', 'say', 'that', 'for', 'destruction', 'ice', 'Is', 'also', 'great', 'And', 'would', 'suffice']\n",
      "====================================================================================================\n",
      "{'The frequency of favor is:': 1, 'The frequency of what is:': 1, 'The frequency of think is:': 1, 'The frequency of But is:': 1, 'The frequency of hate is:': 1, 'The frequency of Is is:': 1, 'The frequency of great is:': 1, 'The frequency of it is:': 1, 'The frequency of for is:': 1, 'The frequency of ice is:': 1, 'The frequency of perish is:': 1, 'The frequency of iceFrom is:': 1, 'The frequency of destruction is:': 1, 'The frequency of fire is:': 2, 'The frequency of also is:': 1, 'The frequency of would is:': 1, 'The frequency of say is:': 3, 'The frequency of know is:': 1, 'The frequency of I is:': 3, 'The frequency of hold is:': 1, 'The frequency of who is:': 1, 'The frequency of twice is:': 1, 'The frequency of with is:': 1, 'The frequency of of is:': 2, 'The frequency of those is:': 1, 'The frequency of end is:': 1, 'The frequency of in is:': 2, 'The frequency of to is:': 1, 'The frequency of had is:': 1, 'The frequency of To is:': 1, 'The frequency of that is:': 1, 'The frequency of world is:': 1, 'The frequency of I’ve is:': 1, 'The frequency of Some is:': 2, 'The frequency of suffice is:': 1, 'The frequency of tasted is:': 1, 'The frequency of will is:': 1, 'The frequency of if is:': 1, 'The frequency of And is:': 1, 'The frequency of desire is:': 1, 'The frequency of enough is:': 1, 'The frequency of the is:': 1}\n"
     ]
    }
   ],
   "source": [
    "poem='''\n",
    "    Some say the world will end in fire,\n",
    "    Some say in ice.From what I’ve tasted of desire\n",
    "    I hold with those who favor fire.\n",
    "    But if it had to perish twice,\n",
    "    I think I know enough of hate\n",
    "    To say that for destruction ice\n",
    "    Is also great\n",
    "    And would suffice.\n",
    "    '''\n",
    "# Your code here:\n",
    "\n",
    "\n",
    "def freq(str):\n",
    "\n",
    "    str_list=poem.split() # Split the string into a list of strings, but some words still remain periods\n",
    "    print(str_list)\n",
    "    print('=='*50)\n",
    "    \n",
    "    \n",
    "    new_list=[]\n",
    "    for i in str_list:    # Use loop, for every line in str_list, remove periods , and .  then append each to a new list\n",
    "        a=i.replace(',','').replace('.','') \n",
    "        new_list.append(a) \n",
    "    print(new_list)\n",
    "    print('=='*50)       \n",
    "    \n",
    "    unique_words=set(new_list) # Find out the unique words in list, and put them as set\n",
    "\n",
    "    \n",
    "    dic={}                     # Create an empty new dictionary\n",
    "    for words in unique_words: # In this set, every word is unique, no repeated words\n",
    "        key='The frequency of {} is:'.format(words)\n",
    "        value=new_list.count(words) # .count=the times of appears; type=int\n",
    "        dic[key]=value             # Add new key and value pairs into the dictinary\n",
    "    print(dic)   \n",
    "        \n",
    "        \n",
    "freq(str)\n"
   ]
  },
  {
   "cell_type": "markdown",
   "metadata": {},
   "source": [
    "In the cell below, find all the words that appear in the text and do not appear in the blacklist. You must parse the string but can choose any data structure you wish for the words that do not appear in the blacklist. Remove all non letter characters and convert all words to lower case."
   ]
  },
  {
   "cell_type": "code",
   "execution_count": 12,
   "metadata": {},
   "outputs": [
    {
     "name": "stdout",
     "output_type": "stream",
     "text": [
      "['i', 'was', 'angry', 'with', 'my', 'friend', 'i', 'told', 'my', 'wrath', 'my', 'wrath', 'did', 'end', 'i', 'was', 'angry', 'with', 'my', 'foe', 'i', 'told', 'not', 'my', 'wrath', 'did', 'grow', 'and', 'i', 'waterd', 'fears', 'night', '', 'morning', 'with', 'my', 'tears', 'and', 'i', 'sunned', 'with', 'smiles', 'and', 'with', 'soft', 'deceitful', 'wiles', 'and', 'grew', 'both', 'day', 'night', 'till', 'bore', 'apple', 'bright', 'and', 'my', 'foe', 'beheld', 'shine', 'and', 'he', 'knew', 'that', 'was', 'mine', 'and', 'into', 'my', 'garden', 'stole', 'when', 'night', 'had', 'veild', 'pole', 'in', 'morning', 'glad', 'i', 'see', 'my', 'foe', 'outstretched', 'beneath', 'tree']\n"
     ]
    }
   ],
   "source": [
    "blacklist = ['and', 'as', 'an', 'a', 'the', 'in', 'it']\n",
    "\n",
    "poem = \"\"\"I was angry with my friend; \n",
    "I told my wrath, my wrath did end.\n",
    "I was angry with my foe: \n",
    "I told it not, my wrath did grow. \n",
    "\n",
    "And I waterd it in fears,\n",
    "Night & morning with my tears: \n",
    "And I sunned it with smiles,\n",
    "And with soft deceitful wiles. \n",
    "\n",
    "And it grew both day and night. \n",
    "Till it bore an apple bright. \n",
    "And my foe beheld it shine,\n",
    "And he knew that it was mine. \n",
    "\n",
    "And into my garden stole, \n",
    "When the night had veild the pole; \n",
    "In the morning glad I see; \n",
    "My foe outstretched beneath the tree.\"\"\"\n",
    "\n",
    "\n",
    "poem_w = poem.split()  # 成为list\n",
    "result = []\n",
    "\n",
    "for w in poem_w:\n",
    "    if w not in blacklist:\n",
    "        result.append(re.sub('\\W','',w).lower())\n",
    "        \n",
    "print(result)"
   ]
  },
  {
   "cell_type": "code",
   "execution_count": 201,
   "metadata": {},
   "outputs": [
    {
     "name": "stdout",
     "output_type": "stream",
     "text": [
      "['i', 'was', 'angry', 'with', 'my', 'friend;', 'i', 'told', 'my', 'wrath,', 'my', 'wrath', 'did', 'end.', 'i', 'was', 'angry', 'with', 'my', 'foe:', 'i', 'told', 'it', 'not,', 'my', 'wrath', 'did', 'grow.', 'and', 'i', 'waterd', 'it', 'in', 'fears,', 'night', '&', 'morning', 'with', 'my', 'tears:', 'and', 'i', 'sunned', 'it', 'with', 'smiles,', 'and', 'with', 'soft', 'deceitful', 'wiles.', 'and', 'it', 'grew', 'both', 'day', 'and', 'night.', 'till', 'it', 'bore', 'an', 'apple', 'bright.', 'and', 'my', 'foe', 'beheld', 'it', 'shine,', 'and', 'he', 'knew', 'that', 'it', 'was', 'mine.', 'and', 'into', 'my', 'garden', 'stole,', 'when', 'the', 'night', 'had', 'veild', 'the', 'pole;', 'in', 'the', 'morning', 'glad', 'i', 'see;', 'my', 'foe', 'outstretched', 'beneath', 'the', 'tree.']\n",
      "\n",
      "\n",
      "['i', 'was', 'angry', 'with', 'my', 'friend', 'i', 'told', 'my', 'wrath', 'my', 'wrath', 'did', 'end', 'i', 'was', 'angry', 'with', 'my', 'foe', 'i', 'told', 'it', 'not', 'my', 'wrath', 'did', 'grow', 'and', 'i', 'waterd', 'it', 'in', 'fears', 'night', '', 'morning', 'with', 'my', 'tears', 'and', 'i', 'sunned', 'it', 'with', 'smiles', 'and', 'with', 'soft', 'deceitful', 'wiles', 'and', 'it', 'grew', 'both', 'day', 'and', 'night', 'till', 'it', 'bore', 'an', 'apple', 'bright', 'and', 'my', 'foe', 'beheld', 'it', 'shine', 'and', 'he', 'knew', 'that', 'it', 'was', 'mine', 'and', 'into', 'my', 'garden', 'stole', 'when', 'the', 'night', 'had', 'veild', 'the', 'pole', 'in', 'the', 'morning', 'glad', 'i', 'see', 'my', 'foe', 'outstretched', 'beneath', 'the', 'tree']\n",
      "\n",
      "\n",
      "['i', 'was', 'angry', 'with', 'my', 'friend', 'i', 'told', 'my', 'wrath', 'my', 'wrath', 'did', 'end', 'i', 'was', 'angry', 'with', 'my', 'foe', 'i', 'told', 'not', 'my', 'wrath', 'did', 'grow', 'i', 'waterd', 'fears', 'night', '', 'morning', 'with', 'my', 'tears', 'i', 'sunned', 'with', 'smiles', 'with', 'soft', 'deceitful', 'wiles', 'grew', 'both', 'day', 'night', 'till', 'bore', 'apple', 'bright', 'my', 'foe', 'beheld', 'shine', 'he', 'knew', 'that', 'was', 'mine', 'into', 'my', 'garden', 'stole', 'when', 'night', 'had', 'veild', 'pole', 'morning', 'glad', 'i', 'see', 'my', 'foe', 'outstretched', 'beneath', 'tree']\n"
     ]
    }
   ],
   "source": [
    "blacklist = ['and', 'as', 'an', 'a', 'the', 'in', 'it']\n",
    "\n",
    "poem = \"\"\"I was angry with my friend; \n",
    "I told my wrath, my wrath did end.\n",
    "I was angry with my foe: \n",
    "I told it not, my wrath did grow. \n",
    "\n",
    "And I waterd it in fears,\n",
    "Night & morning with my tears: \n",
    "And I sunned it with smiles,\n",
    "And with soft deceitful wiles. \n",
    "\n",
    "And it grew both day and night. \n",
    "Till it bore an apple bright. \n",
    "And my foe beheld it shine,\n",
    "And he knew that it was mine. \n",
    "\n",
    "And into my garden stole, \n",
    "When the night had veild the pole; \n",
    "In the morning glad I see; \n",
    "My foe outstretched beneath the tree.\"\"\"\n",
    "\n",
    "# Your code here:\n",
    "\n",
    "\n",
    "\n",
    "#1.Remove all non letter characters and convert all words to lower case. [lower][split]\n",
    "\n",
    "lower_list=poem.lower() # .lower is the attribute of string only, can't work on list, so convert first\n",
    "poem_list=lower_list.split()\n",
    "print(poem_list)        #  the list stills remains periods\n",
    "print('\\n')\n",
    "\n",
    "\n",
    "new_list=[]  # Create a list consists of every single words without periods \n",
    "for i in poem_list:\n",
    "    NoPeriods=i.replace(',','').replace('.','').replace(';','').replace(':','').replace('&','')\n",
    "    new_list.append(NoPeriods)\n",
    "print(new_list)\n",
    "print('\\n')\n",
    "    \n",
    "\n",
    "\n",
    "#2.find all the words that appear in the text and do not appear in the blacklist. -> [Not in]\n",
    "\n",
    "w_not_black=[] # Create a list consits of words not in blacklist\n",
    "for w in new_list:\n",
    "    if w not in blacklist:\n",
    "        w_not_black.append(w)\n",
    "print(w_not_black)\n",
    "        \n",
    "\n",
    " "
   ]
  },
  {
   "cell_type": "markdown",
   "metadata": {},
   "source": [
    "# Challenge 3 - Regular Expressions\n",
    "\n",
    "Sometimes, we would like to perform more complex manipulations of our string. This is where regular expressions come in handy. In the cell below, return all characters that are upper case from the string specified below."
   ]
  },
  {
   "cell_type": "code",
   "execution_count": 195,
   "metadata": {},
   "outputs": [
    {
     "name": "stdout",
     "output_type": "stream",
     "text": [
      "['T', 'P']\n"
     ]
    }
   ],
   "source": [
    "poem = \"\"\"The apparition of these faces in the crowd;\n",
    "Petals on a wet, black bough.\"\"\"\n",
    "\n",
    "# Your code here:\n",
    "\n",
    "import re\n",
    "\n",
    "list1=re.findall('[A-Z]',poem)\n",
    "print(list1)\n",
    "\n",
    "\n",
    "\n",
    "\n"
   ]
  },
  {
   "cell_type": "markdown",
   "metadata": {},
   "source": [
    "In the cell below, filter the list provided and return all elements of the list containing a number. To filter the list, use the `re.search` function. Check if the function does not return `None`. You can read more about the `re.search` function [here](https://docs.python.org/3/library/re.html)."
   ]
  },
  {
   "cell_type": "code",
   "execution_count": 13,
   "metadata": {},
   "outputs": [
    {
     "name": "stdout",
     "output_type": "stream",
     "text": [
      "['123abc', 'abc123', 'JohnSmith1', 'ABBY4']\n"
     ]
    }
   ],
   "source": [
    "data = ['123abc', 'abc123', 'JohnSmith1', 'ABBY4', 'JANE']\n",
    "\n",
    "\n",
    "filtered_list = []\n",
    "\n",
    "for d in data:\n",
    "    if re.search('\\d', d) is not None:   # \\d = digital 所有带数字的字符串返回的值不是None的话= 只是带数字带字符串\n",
    "        filtered_list.append(d)\n",
    "        \n",
    "print(filtered_list)\n"
   ]
  },
  {
   "cell_type": "code",
   "execution_count": 51,
   "metadata": {},
   "outputs": [
    {
     "name": "stdout",
     "output_type": "stream",
     "text": [
      "{<_sre.SRE_Match object; span=(0, 3), match='123'>: '123abc', <_sre.SRE_Match object; span=(3, 6), match='123'>: 'abc123', <_sre.SRE_Match object; span=(9, 10), match='1'>: 'JohnSmith1', <_sre.SRE_Match object; span=(4, 5), match='4'>: 'ABBY4', None: 'JANE'}\n",
      "\n",
      "\n",
      "{<_sre.SRE_Match object; span=(0, 3), match='123'>: '123abc', <_sre.SRE_Match object; span=(3, 6), match='123'>: 'abc123', <_sre.SRE_Match object; span=(9, 10), match='1'>: 'JohnSmith1', <_sre.SRE_Match object; span=(4, 5), match='4'>: 'ABBY4'}\n",
      "\n",
      "\n",
      "dict_values(['123abc', 'abc123', 'JohnSmith1', 'ABBY4'])\n",
      "\n",
      "\n",
      "['123abc', 'abc123', 'JohnSmith1', 'ABBY4']\n"
     ]
    }
   ],
   "source": [
    "data = ['123abc', 'abc123', 'JohnSmith1', 'ABBY4', 'JANE']\n",
    "\n",
    "import re\n",
    "\n",
    "\n",
    "dic={}   # Create a dictionary, Key=the result of re.search (match/None), Value= items in list of data\n",
    "for i in data:\n",
    "    value=i\n",
    "    key=re.search('[\\d]+', i)\n",
    "    dic[key]=value\n",
    "print(dic)\n",
    "print('\\n')\n",
    "\n",
    "   \n",
    "del dic[None]   # Delete the items in dictionary, if its key=None\n",
    "print(dic)\n",
    "print('\\n')\n",
    "\n",
    "\n",
    "values=dic.values() # It is the type of class\n",
    "print(values)\n",
    "print('\\n')\n",
    "\n",
    "\n",
    "list_number=[]     # Convert to type list\n",
    "for v in values:\n",
    "    list_number.append(v)\n",
    "print(list_number)\n",
    "    "
   ]
  },
  {
   "cell_type": "markdown",
   "metadata": {},
   "source": [
    "# Bonus Challenge - Regular Expressions II\n",
    "\n",
    "In the cell below, filter the list provided to keep only strings containing at least one digit and at least one lower case letter. As in the previous question, use the `re.search` function and check that the result is not `None`.\n",
    "\n",
    "To read more about regular expressions, check out [this link](https://developers.google.com/edu/python/regular-expressions)."
   ]
  },
  {
   "cell_type": "code",
   "execution_count": 14,
   "metadata": {},
   "outputs": [
    {
     "name": "stdout",
     "output_type": "stream",
     "text": [
      "['123abc', 'abc123', 'JohnSmith1']\n"
     ]
    }
   ],
   "source": [
    "data = ['123abc', 'abc123', 'JohnSmith1', 'ABBY4', 'JANE']\n",
    "\n",
    "filtered_list = []\n",
    "\n",
    "for d in data:\n",
    "    if re.search('\\d', d) is not None and re.search('[a-z]',d) is not None:  \n",
    "        # \\d = digital 所有带数字的字符串\n",
    "        # [a-z] 字母是a-z，全是小写的\n",
    "        filtered_list.append(d)\n",
    "        \n",
    "print(filtered_list)"
   ]
  },
  {
   "cell_type": "code",
   "execution_count": null,
   "metadata": {},
   "outputs": [],
   "source": []
  }
 ],
 "metadata": {
  "kernelspec": {
   "display_name": "Python 3",
   "language": "python",
   "name": "python3"
  },
  "language_info": {
   "codemirror_mode": {
    "name": "ipython",
    "version": 3
   },
   "file_extension": ".py",
   "mimetype": "text/x-python",
   "name": "python",
   "nbconvert_exporter": "python",
   "pygments_lexer": "ipython3",
   "version": "3.6.5"
  }
 },
 "nbformat": 4,
 "nbformat_minor": 2
}
