{
 "cells": [
  {
   "cell_type": "code",
   "execution_count": 1,
   "metadata": {},
   "outputs": [
    {
     "name": "stdout",
     "output_type": "stream",
     "text": [
      "Enter minimum string length: 4\n",
      "Enter maximum string length: 6\n",
      "How many random strings to generate? 10\n"
     ]
    },
    {
     "data": {
      "text/plain": [
       "['rha7',\n",
       " '6rfedd',\n",
       " 'c93p',\n",
       " 'z4tb',\n",
       " 'atsd0',\n",
       " '947zp',\n",
       " 'm5jkka',\n",
       " 'we76k',\n",
       " 'tfwr',\n",
       " 'wl48']"
      ]
     },
     "execution_count": 1,
     "metadata": {},
     "output_type": "execute_result"
    }
   ],
   "source": [
    "import random\n",
    "import string\n",
    "import sys\n",
    "\n",
    "a = int(input('Enter minimum string length: '))\n",
    "b = int(input('Enter maximum string length: '))\n",
    "n = int(input('How many random strings to generate? '))\n",
    "\n",
    "lst=list(string.ascii_lowercase+string.digits)\n",
    "\n",
    "def RandomStringGenerator(a,b):   \n",
    "    s=[]\n",
    "    for i in range(random.randint(a,b)):\n",
    "        s.append(random.choice(lst))\n",
    "    return ''.join(s)\n",
    "\n",
    "\n",
    "def BatchStringGenerator(a,b,n):\n",
    "    r = []\n",
    "    if a<2 or b<2 or a>b:\n",
    "        sys.exit('Incorrect min and max string lengths. Try again.')\n",
    "    else:\n",
    "        for i in range(n):\n",
    "            r.append(RandomStringGenerator(a,b))\n",
    "        return r\n",
    "\n",
    "   \n",
    "BatchStringGenerator(a,b,n)"
   ]
  },
  {
   "cell_type": "code",
   "execution_count": null,
   "metadata": {},
   "outputs": [],
   "source": []
  }
 ],
 "metadata": {
  "kernelspec": {
   "display_name": "Python 3",
   "language": "python",
   "name": "python3"
  },
  "language_info": {
   "codemirror_mode": {
    "name": "ipython",
    "version": 3
   },
   "file_extension": ".py",
   "mimetype": "text/x-python",
   "name": "python",
   "nbconvert_exporter": "python",
   "pygments_lexer": "ipython3",
   "version": "3.6.5"
  }
 },
 "nbformat": 4,
 "nbformat_minor": 4
}
